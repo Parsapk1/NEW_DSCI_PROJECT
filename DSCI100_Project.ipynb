{
 "cells": [
  {
   "cell_type": "markdown",
   "id": "24b653eb-0d1a-467b-b96a-50ecb2ad4294",
   "metadata": {},
   "source": [
    "Title: Project Proposal\n",
    "Introduction:\n",
    "Background Information:\n",
    "Cardiovascular diseases remain the leading cause of death globally. Cardiovascular diseases encompass many different heart conditions which are characterized by several different variables. Therefore, it becomes difficult to characterize an individual with specific conditions as having heart disease. Because of this, data sets and corresponding algorithms are essential tools for physicians, researchers, and other healthcare workers when characterizing or diagnosing a condition as heart disease.\n",
    "\n",
    "Research Question:\n",
    "We attempt to answer the following question using a data set from Cleveland, Ohio regarding heart disease statistics: Considering a patient’s age, resting blood pressure, and serum cholesterol, will the heart disease diagnosis be classified as absent (FALSE) or present (TRUE)?\n",
    "\n",
    "Data set description:\n",
    "The data set is from the 1980s and describes 14 different variables for patients who may have heart disease. We will utilize the patient's age, chest pain type, resting blood pressure, and serum cholesterol levels to ultimately create a classification that can aid us in answering the question posed above. We consider these variables as the most crucial and persuasive when wanting to determine the presence or absence of heart disease in a patient."
   ]
  },
  {
   "cell_type": "markdown",
   "id": "ad2ef231-361b-4cda-9228-f86a6685ba36",
   "metadata": {},
   "source": [
    "# Title: Project Proposal"
   ]
  },
  {
   "cell_type": "markdown",
   "id": "aac89944-5a21-489e-a925-4ed83441c7b7",
   "metadata": {},
   "source": [
    "## Introduction:"
   ]
  },
  {
   "cell_type": "markdown",
   "id": "b3089a82-bb2c-400f-9bd7-cd71bec8b25b",
   "metadata": {},
   "source": [
    "### Background Information:\n",
    "Cardiovascular diseases remain the leading cause of death globally. Cardiovascular diseases encompass many different heart conditions which are characterized by several different variables. Therefore, it becomes difficult to characterize an individual with specific conditions as having heart disease. Because of this, data sets and corresponding algorithms are essential tools for physicians, researchers, and other healthcare workers when characterizing or diagnosing a condition as heart disease."
   ]
  },
  {
   "cell_type": "markdown",
   "id": "ae63c042-2530-4067-ac67-6f69981a8042",
   "metadata": {},
   "source": [
    "### Research Question:\n",
    "We attempt to answer the following question using a data set from Cleveland, Ohio regarding heart disease statistics: Considering a patient’s age, resting blood pressure, and serum cholesterol, will the heart disease diagnosis be classified as absent (FALSE) or present (TRUE)?"
   ]
  },
  {
   "cell_type": "markdown",
   "id": "ca636ec5-2a25-4a39-932d-7fb57bb12dcc",
   "metadata": {},
   "source": [
    "### Data set description:\n",
    "The data set is from the 1980s and describes 14 different variables for patients who may have heart disease. We will utilize the patient's age, chest pain type, resting blood pressure, and serum cholesterol levels to ultimately create a classification that can aid us in answering the question posed above. We consider these variables as the most crucial and persuasive when wanting to determine the presence or absence of heart disease in a patient."
   ]
  },
  {
   "cell_type": "code",
   "execution_count": null,
   "id": "6fbd0ea2-841b-43f5-9da2-850cffbffb85",
   "metadata": {},
   "outputs": [],
   "source": [
    "library(tidyverse)\n",
    "library(repr)\n",
    "library(scales)\n",
    "library(tidymodels)"
   ]
  },
  {
   "cell_type": "code",
   "execution_count": null,
   "id": "260c5ded-6a6a-4d7c-8a4d-c3d772f305cc",
   "metadata": {},
   "outputs": [],
   "source": [
    "URL <- (\"https://archive.ics.uci.edu/ml/machine-learning-databases/heart-disease/processed.cleveland.data\")\n",
    "\n",
    "processed_cleveland <- read_csv(URL) \n",
    "    colnames(processed_cleveland) <- c(\"Age\", \"Sex\",\"Chest_Pain_Type\",\"Resting_Blood_Pressure\",\"Serum_Cholestrol\",\"Fasting_Blood_Sugar\", \"Resting_Electrocadriographic_Results\", \"Maximum_Heart_Rate_Achieved\",\"Excercise_Induced_Angina\", \"ST_Depression_Induced\",\"Slope_of_Peak_Exercise_ST_Segment\", \"#_of_Major_Vessels\", \"Defects\", \"Diagnosis_of_Heart_Disease\")\n",
    "processed_cleveland"
   ]
  },
  {
   "cell_type": "code",
   "execution_count": null,
   "id": "56bf756a-e4a5-4bb5-ac91-f09014d6e9dc",
   "metadata": {},
   "outputs": [],
   "source": [
    "#select the variables that we need to make a model\n",
    "cleveland_heart <- processed_cleveland |>\n",
    "    select(\"Age\",\"Resting_Blood_Pressure\",\"Serum_Cholestrol\",\"Diagnosis_of_Heart_Disease\")\n",
    "head(cleveland_heart)"
   ]
  },
  {
   "cell_type": "code",
   "execution_count": null,
   "id": "77437bf2-e0e5-406f-84b6-e0603cea7d49",
   "metadata": {},
   "outputs": [],
   "source": [
    "# will construct a binary results for Diagnosis_Hear_Disease instead of numbers\n",
    "scaled_cleveland_heart <- cleveland_heart |>\n",
    "    mutate(Diagnosis = Diagnosis_of_Heart_Disease != 0)\n",
    "\n",
    "scaled_cleveland_heart"
   ]
  },
  {
   "cell_type": "code",
   "execution_count": null,
   "id": "c12c45a9-d8d4-4d94-aa81-7509a8350845",
   "metadata": {},
   "outputs": [],
   "source": [
    "# +\n",
    "#Filter out the variables that we need to build a model and change the diagnosis of Heart Disease to a factor data type\n",
    "cleveland_heart_cleaned <- scaled_cleveland_heart |>\n",
    "    select(Age, Resting_Blood_Pressure, Serum_Cholestrol, Diagnosis)|>\n",
    "    mutate(\"Diagnosis\" = as_factor(Diagnosis))\n",
    "\n",
    "head(cleveland_heart_cleaned)"
   ]
  },
  {
   "cell_type": "code",
   "execution_count": null,
   "id": "8b5e1ed1-3d31-46cc-8ffb-f693c85b0fbb",
   "metadata": {},
   "outputs": [],
   "source": [
    "# +\n",
    "# Let's visualize if there is any relationship between the predictors and the results\n",
    "perim_heart <- cleveland_heart_cleaned |>\n",
    "  ggplot(aes(x = Resting_Blood_Pressure, y = Serum_Cholestrol, color = Diagnosis)) +\n",
    "  geom_point(alpha = 0.5) +\n",
    "  labs(color = \"Diagnosis\") +\n",
    "  scale_color_manual(labels = c(\"Present\", \"Absent\"), \n",
    "                     values = c(\"orange2\", \"steelblue2\")) + \n",
    "  theme(text = element_text(size = 20))\n",
    "\n",
    "perim_heart"
   ]
  },
  {
   "cell_type": "code",
   "execution_count": null,
   "id": "44195461-2bca-4609-bc50-6c061531c8b6",
   "metadata": {},
   "outputs": [],
   "source": [
    "# +\n",
    "perim_heart2 <- cleveland_heart_cleaned |>\n",
    "  ggplot(aes(x = Resting_Blood_Pressure, y = Age, color = Diagnosis)) +\n",
    "  geom_point(alpha = 0.5) +\n",
    "  labs(color = \"Diagnosis\") +\n",
    "  scale_color_manual(labels = c(\"Present\", \"Absent\"), \n",
    "                     values = c(\"orange2\", \"steelblue2\")) + \n",
    "  theme(text = element_text(size = 20))\n",
    "\n",
    "perim_heart2"
   ]
  },
  {
   "cell_type": "code",
   "execution_count": null,
   "id": "439d2247-7fb9-44be-931b-73c1043cbec5",
   "metadata": {},
   "outputs": [],
   "source": [
    "# +\n",
    "perim_heart3 <- cleveland_heart_cleaned |>\n",
    "  ggplot(aes(x = Serum_Cholestrol, y = Age, color = Diagnosis)) +\n",
    "  geom_point(alpha = 0.5) +\n",
    "  labs(color = \"Diagnosis\") +\n",
    "  scale_color_manual(labels = c(\"Present\", \"Absent\"), \n",
    "                     values = c(\"orange2\", \"steelblue2\")) + \n",
    "  theme(text = element_text(size = 20))\n",
    "\n",
    "perim_heart3"
   ]
  },
  {
   "cell_type": "code",
   "execution_count": null,
   "id": "860e6c99-c054-4d9b-bffe-9a58825fdeda",
   "metadata": {},
   "outputs": [],
   "source": [
    "# +\n",
    "#Let's see the proportion\n",
    "sample_proportions <- cleveland_heart_cleaned |>\n",
    "                      group_by(Diagnosis) |>\n",
    "                      summarize(n = n()) |>\n",
    "                      mutate(percent = 100*n/nrow(cleveland_heart_cleaned))\n",
    "\n",
    "sample_proportions\n"
   ]
  },
  {
   "cell_type": "code",
   "execution_count": null,
   "id": "239f0578-0234-4119-9224-38fcf2f6d2df",
   "metadata": {},
   "outputs": [],
   "source": [
    "#The mean of each group was taken just to get a sense of any visible trends\n",
    "cleveland_heart_mean <- cleveland_heart_cleaned |>\n",
    "    group_by(Age) |>\n",
    "    summarize(Resting_Blood_Pressure = mean(Resting_Blood_Pressure),\n",
    "             Serum_Cholestrol = mean(Serum_Cholestrol))\n",
    "head(cleveland_heart_mean)"
   ]
  },
  {
   "cell_type": "code",
   "execution_count": null,
   "id": "22ef8206-bf77-437d-927c-7b8c39ded1e5",
   "metadata": {},
   "outputs": [],
   "source": [
    "# +\n",
    "set.seed(2023)\n",
    "\n",
    "heart_split <- initial_split(cleveland_heart_cleaned, prop = 0.75, strata = Diagnosis)\n",
    "heart_train <- training(heart_split)\n",
    "heart_test <- testing(heart_split)\n",
    "\n",
    "glimpse(heart_train)\n",
    "glimpse(heart_test)\n"
   ]
  },
  {
   "cell_type": "code",
   "execution_count": null,
   "id": "7d08504f-d056-44eb-930c-b6746be088c0",
   "metadata": {},
   "outputs": [],
   "source": [
    "# +\n",
    "training_set_proportions <- heart_train |>\n",
    "                      group_by(Diagnosis) |>\n",
    "                      summarize(n = n()) |>\n",
    "                      mutate(percent = 100*n/nrow(heart_train))\n",
    "\n",
    "training_set_proportions"
   ]
  },
  {
   "cell_type": "code",
   "execution_count": null,
   "id": "ff8e8b51-d316-4fbc-ac25-8f1565a9050d",
   "metadata": {},
   "outputs": [],
   "source": [
    "# +\n",
    "k_vals <- tibble(neighbors = seq(from = 1, to = 100, by = 5))\n",
    "options(repr.plot.height = 5, repr.plot.width = 6)\n",
    "\n",
    "knn_tune <- nearest_neighbor(weight_func = \"rectangular\", \n",
    "                            neighbors = tune()) |>\n",
    "                            set_engine(\"kknn\") |>\n",
    "                            set_mode(\"classification\")\n",
    "\n",
    "diagnosis_recipe <- recipe(Diagnosis ~ ., data = heart_train) |>\n",
    "                                step_scale(all_predictors()) |>\n",
    "                                step_center(all_predictors())\n",
    "\n",
    "diagnosis_vfold <- vfold_cv(heart_train, v = 5, strata = Diagnosis)\n",
    "\n",
    "diagnosis_analysis <- workflow() |>\n",
    "                    add_recipe(diagnosis_recipe) |>\n",
    "                    add_model(knn_tune) |>\n",
    "                    tune_grid(resamples = diagnosis_vfold, grid = k_vals)\n",
    "\n",
    "accuracies <- diagnosis_analysis |>\n",
    "                collect_metrics() |>\n",
    "                filter(.metric == \"accuracy\")\n",
    "\n",
    "cross_val_plot <- ggplot(accuracies, aes(x = neighbors, y = mean)) +\n",
    "                    geom_point() +\n",
    "                    geom_line() +\n",
    "                    labs(x = \"Neighbors\", y = \"Accuracy Estimate\") + \n",
    "                    theme(text = element_text(size = 12))\n",
    "\n",
    "cross_val_plot"
   ]
  },
  {
   "cell_type": "code",
   "execution_count": null,
   "id": "a2a1c111-5543-4a40-8aeb-3252395a9be0",
   "metadata": {},
   "outputs": [],
   "source": [
    "# +\n",
    "knn_spec <- nearest_neighbor(weight_func = \"rectangular\", neighbors = 105) |>\n",
    "  set_engine(\"kknn\") |>\n",
    "  set_mode(\"classification\")\n",
    "\n",
    "knn_fit <- workflow() |>\n",
    "  add_recipe(diagnosis_recipe) |>\n",
    "  add_model(knn_spec) |>\n",
    "  fit(data = heart_train)\n",
    "\n",
    "diagnosis_test_predictions <- predict(knn_fit, heart_test) |>\n",
    "  bind_cols(heart_test)\n",
    "\n",
    "head(diagnosis_test_predictions)"
   ]
  },
  {
   "cell_type": "code",
   "execution_count": null,
   "id": "5af367a4-229f-441c-bba4-3915e86cc327",
   "metadata": {},
   "outputs": [],
   "source": [
    "# -\n",
    "\n",
    "diagnosis_test_predictions |>\n",
    "  metrics(truth = Diagnosis, estimate = .pred_class) |>\n",
    "  filter(.metric == \"accuracy\")\n",
    "\n",
    "confusion <- diagnosis_test_predictions |>\n",
    "             conf_mat(truth = Diagnosis, estimate = .pred_class)\n",
    "confusion"
   ]
  },
  {
   "cell_type": "markdown",
   "id": "6e35b92d-e139-4e26-bb5c-aa354a758cf8",
   "metadata": {},
   "source": [
    "### Methods:\n",
    "We will use Age, Chest pain type, Resting blood pressure, and Serum cholesterol as variables and compare all of these factors against the heart disease diagnosis, in order to determine whether or not these may be contributing factors. One way to visualize this would be to make a histogram of each category against the heart disease diagnosis, to see if increasings blood pressure, for example, has a correlation on the diagnosis.\n",
    "\n",
    "1. Split the dataset into testing and training data\n",
    "2. Determine which k to use; test different k values - plot the k vs. accuracy\n",
    "3. With the best value of k (nearest neighbour, recipe), make a model with the training set\n",
    "4. Make a prediction based on the model\n",
    "5. Test it using the testing data\n",
    "6. Compare our results with the results from the testing dataset\n",
    "7. Create a multivariable linear regression line to see if we are able to predict the diagnosis based on the variables"
   ]
  },
  {
   "cell_type": "markdown",
   "id": "0e786a51-72af-4fdb-8698-6931aa266bb9",
   "metadata": {},
   "source": [
    "## Expected outcomes and significance:\n",
    "#### What do you expect to find?\n",
    "- We expect to see a positive correlation in age, resting blood pressure, and serum cholesterol levels with the risk of heart disease. In other words, each variable will have its own positive correlation with the risk of heart disease.\n",
    "#### What impact could such findings have?\n",
    "- If there is a significant spike in the presence of heart disease after a certain age for example, then it would be recommended for people near that age to closely monitor their heart health and receive regular checkups.\n",
    "#### What future questions could this lead to?\n",
    "- If a significant correlation appears between a variable and the presence of heart disease, then the next step would be further research to examine the underlying biological cause of this observed trend."
   ]
  },
  {
   "cell_type": "markdown",
   "id": "ce4cf582-493e-45ea-b567-4801e64ea631",
   "metadata": {},
   "source": [
    "### References:\n",
    "- National Center for Chronic Disease Prevention and Health Promotion, Division for Heart Disease and Stroke Prevention. (2023, Feb. 24). Heart Disease. cdc.gov. https://www.cdc.gov/heartdisease/index.htm#:~:text=The%20term%20%E2%80%9Cheart%20disease%E2%80%9D%20refers,%2C%20in%20some%20cases%2C%20medicine\n",
    "- World Health Organization. (2021, June 11). Cardiovascular diseases (CVDs). World Health Organization. https://www.who.int/news-room/fact-sheets/detail/cardiovascular-diseases-(cvds)"
   ]
  }
 ],
 "metadata": {
  "kernelspec": {
   "display_name": "Python 3 (ipykernel)",
   "language": "python",
   "name": "python3"
  },
  "language_info": {
   "codemirror_mode": {
    "name": "ipython",
    "version": 3
   },
   "file_extension": ".py",
   "mimetype": "text/x-python",
   "name": "python",
   "nbconvert_exporter": "python",
   "pygments_lexer": "ipython3",
   "version": "3.10.8"
  }
 },
 "nbformat": 4,
 "nbformat_minor": 5
}
